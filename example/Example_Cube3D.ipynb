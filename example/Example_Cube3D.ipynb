{
 "cells": [
  {
   "cell_type": "markdown",
   "id": "ba724066",
   "metadata": {},
   "source": [
    "# 三维数据立方模拟（`cube3d`）"
   ]
  },
  {
   "cell_type": "code",
   "execution_count": 1,
   "id": "8b12b69e",
   "metadata": {},
   "outputs": [],
   "source": [
    "from gehong import spec1d as s\n",
    "from gehong import map2d as m\n",
    "from gehong import cube3d as b\n",
    "from gehong import config as c\n",
    "import numpy as np\n",
    "import matplotlib.pyplot as plt"
   ]
  },
  {
   "cell_type": "markdown",
   "id": "8d20f84d",
   "metadata": {},
   "source": [
    "### 光谱格式配置项\n",
    "\n",
    "`config`模块用来配置模拟光谱的格式，包括波长方向配置（波长范围、波长间隔）和空间方向配置（像素数、像素大小）。默认配置下模拟得到的三维数据立方可直接用于`csst-ifs-etc`的计算。"
   ]
  },
  {
   "cell_type": "code",
   "execution_count": 2,
   "id": "6603f0ff",
   "metadata": {},
   "outputs": [],
   "source": [
    "config = c.config()"
   ]
  },
  {
   "cell_type": "markdown",
   "id": "9bf2f575",
   "metadata": {},
   "source": [
    "## 模拟TNG星系的积分视场光谱"
   ]
  },
  {
   "cell_type": "markdown",
   "id": "3007c0f0",
   "metadata": {},
   "source": [
    "### 数据读取"
   ]
  },
  {
   "cell_type": "code",
   "execution_count": 3,
   "id": "37995ee9",
   "metadata": {},
   "outputs": [
    {
     "name": "stdout",
     "output_type": "stream",
     "text": [
      "Filename: TNG_Example.fits\n",
      "No.    Name      Ver    Type      Cards   Dimensions   Format\n",
      "  0  PRIMARY       1 PrimaryHDU       4   ()      \n",
      "  1  SURFACE_BRIGHT    1 ImageHDU         8   (30, 30)   float64   \n",
      "  2  AGE_STAR      1 ImageHDU         8   (30, 30)   float64   \n",
      "  3  FEH_STAR      1 ImageHDU         8   (30, 30)   float64   \n",
      "  4  VEL_STAR      1 ImageHDU         8   (30, 30)   float64   \n",
      "  5  SIG_STAR      1 ImageHDU         8   (30, 30)   float64   \n",
      "  6  HA_FLUX       1 ImageHDU         8   (30, 30)   float64   \n",
      "  7  ZH_GAS        1 ImageHDU         8   (30, 30)   float64   \n",
      "  8  VEL_GAS       1 ImageHDU         8   (30, 30)   float64   \n",
      "  9  SIG_GAS       1 ImageHDU         8   (30, 30)   float64   \n",
      "None\n"
     ]
    }
   ],
   "source": [
    "from astropy.io import fits\n",
    "hdulist = fits.open('TNG_Example.fits')\n",
    "print(hdulist.info())"
   ]
  },
  {
   "cell_type": "markdown",
   "id": "9d8d82de",
   "metadata": {},
   "source": [
    "### 分别导入数据"
   ]
  },
  {
   "cell_type": "code",
   "execution_count": 4,
   "id": "10e00021",
   "metadata": {},
   "outputs": [],
   "source": [
    "# 恒星星族相关Map\n",
    "stellar_sbmap    = m.Map2d(config)\n",
    "stellar_sbmap.load_map(hdulist[1].data)\n",
    "stellar_agemap   = m.Map2d(config)\n",
    "stellar_agemap.load_map(np.log10(hdulist[2].data*1e9))\n",
    "stellar_fehmap   = m.Map2d(config)\n",
    "stellar_fehmap.load_map(hdulist[3].data)\n",
    "stellar_velmap   = m.Map2d(config)\n",
    "stellar_velmap.load_map(hdulist[4].data)\n",
    "stellar_vdispmap = m.Map2d(config)\n",
    "stellar_vdispmap.load_map(hdulist[5].data)\n",
    "# 气体相关Map\n",
    "gas_hamap    = m.Map2d(config)\n",
    "gas_hamap.load_map(hdulist[6].data)\n",
    "gas_zhmap    = m.Map2d(config)\n",
    "gas_zhmap.load_map(hdulist[7].data)\n",
    "gas_velmap   = m.Map2d(config)\n",
    "gas_velmap.load_map(hdulist[8].data)\n",
    "gas_vdispmap = m.Map2d(config)\n",
    "gas_vdispmap.load_map(hdulist[9].data)\n",
    "# 假设一个尘埃消光分布\n",
    "ebvmap = m.Map2d(config)\n",
    "ebvmap.load_map(hdulist[5].data * 0 + 0.1)\n",
    "\n",
    "stellarcontinuum = m.StellarPopulationMap(config, sbright = stellar_sbmap, \n",
    "                                          logage = stellar_agemap, feh = stellar_fehmap, \n",
    "                                          vel = stellar_velmap, vdisp = stellar_vdispmap, \n",
    "                                          ebv = ebvmap)\n",
    "ionizedgas = m.IonizedGasMap(config, halpha = gas_hamap, \n",
    "                             zh = gas_zhmap, vel = gas_velmap, \n",
    "                             vdisp = gas_vdispmap, ebv = ebvmap)"
   ]
  },
  {
   "cell_type": "markdown",
   "id": "5b6fa973",
   "metadata": {},
   "source": [
    "### 配置cube3d的基本参数\n",
    "\n",
    "模拟的数据立方类的形式进行操作（`cube3d.Cube3D`）。在开始模拟之前需先对模拟参数进行配置，包括数据立方的格式`config`，恒星成分物理参数分布`stellar_map`和气体成分物理参数分布`gas_map`"
   ]
  },
  {
   "cell_type": "code",
   "execution_count": 5,
   "id": "9b0057d3",
   "metadata": {},
   "outputs": [],
   "source": [
    "u = b.Cube3D(config, stellar_map = stellarcontinuum, gas_map = ionizedgas)"
   ]
  },
  {
   "cell_type": "markdown",
   "id": "d377ed48",
   "metadata": {},
   "source": [
    "### 配置模拟光谱所需要的模板\n",
    "\n",
    "包括恒星连续谱模板和电离气体发射线模板"
   ]
  },
  {
   "cell_type": "code",
   "execution_count": 6,
   "id": "61bc3c17",
   "metadata": {},
   "outputs": [],
   "source": [
    "gas_tem = s.EmissionLineTemplate(config, model = 'hii')\n",
    "stellar_tem = s.StellarContinuumTemplate(config)"
   ]
  },
  {
   "cell_type": "markdown",
   "id": "018f8779",
   "metadata": {},
   "source": [
    "### 开始进行光谱模拟"
   ]
  },
  {
   "cell_type": "code",
   "execution_count": 7,
   "id": "e8b6943f",
   "metadata": {},
   "outputs": [],
   "source": [
    "u.make_cube(stellar_tem = stellar_tem, hii_tem = gas_tem)"
   ]
  },
  {
   "cell_type": "markdown",
   "id": "d1a8443c",
   "metadata": {},
   "source": [
    "### 展示模拟光谱"
   ]
  },
  {
   "cell_type": "code",
   "execution_count": 8,
   "id": "f4177775",
   "metadata": {},
   "outputs": [
    {
     "data": {
      "image/png": "[encoded data removed]",
      "text/plain": [
       "<Figure size 1080x252 with 3 Axes>"
      ]
     },
     "metadata": {
      "needs_background": "light"
     },
     "output_type": "display_data"
    }
   ],
   "source": [
    "x1, y1 = 14, 14\n",
    "x2, y2 = 12, 12\n",
    "\n",
    "plt.figure(figsize=(15,3.5))\n",
    "plt.subplot(121)\n",
    "plt.imshow(np.log10(np.mean(u.flux[:,:,(u.wave>4900)&(u.wave<5100)],axis=2)),cmap='gray_r')\n",
    "plt.colorbar(label=r'$\\log (10^{-17} erg/s/\\AA/cm^2)$')\n",
    "plt.scatter(x1,y1,marker='o',s=100,color='red',alpha=0.5)\n",
    "plt.scatter(x2,y2,marker='o',s=100,color='blue',alpha=0.5)\n",
    "plt.xticks([])\n",
    "plt.yticks([])\n",
    "\n",
    "plt.subplot(122)\n",
    "idx=(u.wave>3800)&(u.wave<7000)\n",
    "plt.plot(u.wave[idx],u.flux[x1,y1,:][idx],lw=2,color='red')\n",
    "plt.plot(u.wave[idx],u.flux[x2,y2,:][idx],lw=2,color='blue')\n",
    "plt.xlim(3800,7000)\n",
    "plt.yscale('log')\n",
    "plt.xlabel(r'$Wavelength(\\AA)$')\n",
    "plt.ylabel(r'$Flux (10^{-17} erg/s/\\AA/cm^2)$')\n",
    "\n",
    "plt.tight_layout()\n",
    "plt.show()"
   ]
  },
  {
   "cell_type": "markdown",
   "id": "103590a5",
   "metadata": {},
   "source": [
    "### 数据立方存储"
   ]
  },
  {
   "cell_type": "code",
   "execution_count": 9,
   "id": "a36e8322",
   "metadata": {},
   "outputs": [
    {
     "ename": "AttributeError",
     "evalue": "'Cube3D' object has no attribute 'inst'",
     "output_type": "error",
     "traceback": [
      "\u001b[0;31m---------------------------------------------------------------------------\u001b[0m",
      "\u001b[0;31mAttributeError\u001b[0m                            Traceback (most recent call last)",
      "\u001b[0;32m<ipython-input-9-6d1159981351>\u001b[0m in \u001b[0;36m<module>\u001b[0;34m\u001b[0m\n\u001b[0;32m----> 1\u001b[0;31m \u001b[0mu\u001b[0m\u001b[0;34m.\u001b[0m\u001b[0msavefits\u001b[0m\u001b[0;34m(\u001b[0m\u001b[0;34m'result.fits'\u001b[0m\u001b[0;34m)\u001b[0m\u001b[0;34m\u001b[0m\u001b[0;34m\u001b[0m\u001b[0m\n\u001b[0m",
      "\u001b[0;32m~/opt/anaconda3/lib/python3.8/site-packages/gehong/cube3d.py\u001b[0m in \u001b[0;36msavefits\u001b[0;34m(self, filename, path)\u001b[0m\n\u001b[1;32m     86\u001b[0m         \u001b[0mhdu0\u001b[0m \u001b[0;34m=\u001b[0m \u001b[0mfits\u001b[0m\u001b[0;34m.\u001b[0m\u001b[0mPrimaryHDU\u001b[0m\u001b[0;34m(\u001b[0m\u001b[0mheader\u001b[0m \u001b[0;34m=\u001b[0m \u001b[0mhdr\u001b[0m\u001b[0;34m)\u001b[0m\u001b[0;34m\u001b[0m\u001b[0;34m\u001b[0m\u001b[0m\n\u001b[1;32m     87\u001b[0m \u001b[0;34m\u001b[0m\u001b[0m\n\u001b[0;32m---> 88\u001b[0;31m         \u001b[0mself\u001b[0m\u001b[0;34m.\u001b[0m\u001b[0mwcs_info\u001b[0m\u001b[0;34m(\u001b[0m\u001b[0;34m)\u001b[0m\u001b[0;34m\u001b[0m\u001b[0;34m\u001b[0m\u001b[0m\n\u001b[0m\u001b[1;32m     89\u001b[0m         \u001b[0mhdr\u001b[0m \u001b[0;34m=\u001b[0m \u001b[0mself\u001b[0m\u001b[0;34m.\u001b[0m\u001b[0mwcs_header\u001b[0m\u001b[0;34m\u001b[0m\u001b[0;34m\u001b[0m\u001b[0m\n\u001b[1;32m     90\u001b[0m         \u001b[0mhdu1\u001b[0m \u001b[0;34m=\u001b[0m \u001b[0mfits\u001b[0m\u001b[0;34m.\u001b[0m\u001b[0mImageHDU\u001b[0m\u001b[0;34m(\u001b[0m\u001b[0mself\u001b[0m\u001b[0;34m.\u001b[0m\u001b[0mflux\u001b[0m\u001b[0;34m,\u001b[0m \u001b[0mheader\u001b[0m \u001b[0;34m=\u001b[0m \u001b[0mhdr\u001b[0m\u001b[0;34m)\u001b[0m\u001b[0;34m\u001b[0m\u001b[0;34m\u001b[0m\u001b[0m\n",
      "\u001b[0;32m~/opt/anaconda3/lib/python3.8/site-packages/gehong/cube3d.py\u001b[0m in \u001b[0;36mwcs_info\u001b[0;34m(self)\u001b[0m\n\u001b[1;32m     50\u001b[0m         wcs_dict = {'CTYPE1': 'WAVE    ', \n\u001b[1;32m     51\u001b[0m                     \u001b[0;34m'CUNIT1'\u001b[0m\u001b[0;34m:\u001b[0m \u001b[0;34m'Angstrom'\u001b[0m\u001b[0;34m,\u001b[0m\u001b[0;34m\u001b[0m\u001b[0;34m\u001b[0m\u001b[0m\n\u001b[0;32m---> 52\u001b[0;31m                     \u001b[0;34m'CDELT1'\u001b[0m\u001b[0;34m:\u001b[0m \u001b[0mself\u001b[0m\u001b[0;34m.\u001b[0m\u001b[0minst\u001b[0m\u001b[0;34m.\u001b[0m\u001b[0mdlam\u001b[0m\u001b[0;34m,\u001b[0m\u001b[0;34m\u001b[0m\u001b[0;34m\u001b[0m\u001b[0m\n\u001b[0m\u001b[1;32m     53\u001b[0m                     \u001b[0;34m'CRPIX1'\u001b[0m\u001b[0;34m:\u001b[0m \u001b[0;36m1\u001b[0m\u001b[0;34m,\u001b[0m\u001b[0;34m\u001b[0m\u001b[0;34m\u001b[0m\u001b[0m\n\u001b[1;32m     54\u001b[0m                     \u001b[0;34m'CRVAL1'\u001b[0m\u001b[0;34m:\u001b[0m \u001b[0mnp\u001b[0m\u001b[0;34m.\u001b[0m\u001b[0mmin\u001b[0m\u001b[0;34m(\u001b[0m\u001b[0mself\u001b[0m\u001b[0;34m.\u001b[0m\u001b[0mwave\u001b[0m\u001b[0;34m)\u001b[0m\u001b[0;34m,\u001b[0m\u001b[0;34m\u001b[0m\u001b[0;34m\u001b[0m\u001b[0m\n",
      "\u001b[0;31mAttributeError\u001b[0m: 'Cube3D' object has no attribute 'inst'"
     ]
    }
   ],
   "source": [
    "u.savefits('result.fits')"
   ]
  },
  {
   "cell_type": "code",
   "execution_count": null,
   "id": "baff739b",
   "metadata": {},
   "outputs": [],
   "source": []
  }
 ],
 "metadata": {
  "kernelspec": {
   "display_name": "Python 3",
   "language": "python",
   "name": "python3"
  },
  "language_info": {
   "codemirror_mode": {
    "name": "ipython",
    "version": 3
   },
   "file_extension": ".py",
   "mimetype": "text/x-python",
   "name": "python",
   "nbconvert_exporter": "python",
   "pygments_lexer": "ipython3",
   "version": "3.8.8"
  }
 },
 "nbformat": 4,
 "nbformat_minor": 5
}
